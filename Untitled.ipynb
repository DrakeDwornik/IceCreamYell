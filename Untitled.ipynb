{
 "cells": [
  {
   "cell_type": "markdown",
   "id": "10a45f26",
   "metadata": {},
   "source": [
    "#Ice Cream Yell Exersize\n",
    "##load data into a dictionary of tuples\n"
   ]
  },
  {
   "cell_type": "code",
   "execution_count": 78,
   "id": "561f6c78",
   "metadata": {},
   "outputs": [
    {
     "ename": "TypeError",
     "evalue": "list indices must be integers or slices, not str",
     "output_type": "error",
     "traceback": [
      "\u001b[0;31m---------------------------------------------------------------------------\u001b[0m",
      "\u001b[0;31mTypeError\u001b[0m                                 Traceback (most recent call last)",
      "\u001b[0;32m<ipython-input-78-1bc363135831>\u001b[0m in \u001b[0;36m<module>\u001b[0;34m\u001b[0m\n\u001b[1;32m     10\u001b[0m         \u001b[0mice_cream_eater\u001b[0m \u001b[0;34m=\u001b[0m \u001b[0mline\u001b[0m\u001b[0;34m.\u001b[0m\u001b[0msplit\u001b[0m\u001b[0;34m(\u001b[0m\u001b[0;34m\",\"\u001b[0m\u001b[0;34m)\u001b[0m\u001b[0;34m\u001b[0m\u001b[0;34m\u001b[0m\u001b[0m\n\u001b[1;32m     11\u001b[0m         \u001b[0mid\u001b[0m \u001b[0;34m=\u001b[0m \u001b[0mint\u001b[0m\u001b[0;34m(\u001b[0m\u001b[0mice_cream_eater\u001b[0m\u001b[0;34m.\u001b[0m\u001b[0mpop\u001b[0m\u001b[0;34m(\u001b[0m\u001b[0;36m0\u001b[0m\u001b[0;34m)\u001b[0m\u001b[0;34m)\u001b[0m\u001b[0;34m\u001b[0m\u001b[0;34m\u001b[0m\u001b[0m\n\u001b[0;32m---> 12\u001b[0;31m         \u001b[0mice_cream_eater\u001b[0m\u001b[0;34m[\u001b[0m\u001b[0mkey\u001b[0m\u001b[0;34m]\u001b[0m \u001b[0;34m=\u001b[0m \u001b[0;34m{\u001b[0m\u001b[0mint\u001b[0m\u001b[0;34m(\u001b[0m\u001b[0mice_cream_eater\u001b[0m\u001b[0;34m[\u001b[0m\u001b[0mkey\u001b[0m\u001b[0;34m]\u001b[0m\u001b[0;34m)\u001b[0m \u001b[0;32mfor\u001b[0m \u001b[0mkey\u001b[0m \u001b[0;32min\u001b[0m \u001b[0mice_cream_eater\u001b[0m\u001b[0;34m}\u001b[0m\u001b[0;34m\u001b[0m\u001b[0;34m\u001b[0m\u001b[0m\n\u001b[0m\u001b[1;32m     13\u001b[0m         \u001b[0mzipped_eater\u001b[0m \u001b[0;34m=\u001b[0m \u001b[0mzip\u001b[0m\u001b[0;34m(\u001b[0m\u001b[0mheaders\u001b[0m\u001b[0;34m,\u001b[0m\u001b[0mice_cream_eater\u001b[0m\u001b[0;34m)\u001b[0m\u001b[0;34m\u001b[0m\u001b[0;34m\u001b[0m\u001b[0m\n\u001b[1;32m     14\u001b[0m         \u001b[0mice_cream_eaters\u001b[0m\u001b[0;34m[\u001b[0m\u001b[0mid\u001b[0m\u001b[0;34m]\u001b[0m \u001b[0;34m=\u001b[0m \u001b[0mdict\u001b[0m\u001b[0;34m(\u001b[0m\u001b[0mzipped_eater\u001b[0m\u001b[0;34m)\u001b[0m\u001b[0;34m\u001b[0m\u001b[0;34m\u001b[0m\u001b[0m\n",
      "\u001b[0;32m<ipython-input-78-1bc363135831>\u001b[0m in \u001b[0;36m<setcomp>\u001b[0;34m(.0)\u001b[0m\n\u001b[1;32m     10\u001b[0m         \u001b[0mice_cream_eater\u001b[0m \u001b[0;34m=\u001b[0m \u001b[0mline\u001b[0m\u001b[0;34m.\u001b[0m\u001b[0msplit\u001b[0m\u001b[0;34m(\u001b[0m\u001b[0;34m\",\"\u001b[0m\u001b[0;34m)\u001b[0m\u001b[0;34m\u001b[0m\u001b[0;34m\u001b[0m\u001b[0m\n\u001b[1;32m     11\u001b[0m         \u001b[0mid\u001b[0m \u001b[0;34m=\u001b[0m \u001b[0mint\u001b[0m\u001b[0;34m(\u001b[0m\u001b[0mice_cream_eater\u001b[0m\u001b[0;34m.\u001b[0m\u001b[0mpop\u001b[0m\u001b[0;34m(\u001b[0m\u001b[0;36m0\u001b[0m\u001b[0;34m)\u001b[0m\u001b[0;34m)\u001b[0m\u001b[0;34m\u001b[0m\u001b[0;34m\u001b[0m\u001b[0m\n\u001b[0;32m---> 12\u001b[0;31m         \u001b[0mice_cream_eater\u001b[0m\u001b[0;34m[\u001b[0m\u001b[0mkey\u001b[0m\u001b[0;34m]\u001b[0m \u001b[0;34m=\u001b[0m \u001b[0;34m{\u001b[0m\u001b[0mint\u001b[0m\u001b[0;34m(\u001b[0m\u001b[0mice_cream_eater\u001b[0m\u001b[0;34m[\u001b[0m\u001b[0mkey\u001b[0m\u001b[0;34m]\u001b[0m\u001b[0;34m)\u001b[0m \u001b[0;32mfor\u001b[0m \u001b[0mkey\u001b[0m \u001b[0;32min\u001b[0m \u001b[0mice_cream_eater\u001b[0m\u001b[0;34m}\u001b[0m\u001b[0;34m\u001b[0m\u001b[0;34m\u001b[0m\u001b[0m\n\u001b[0m\u001b[1;32m     13\u001b[0m         \u001b[0mzipped_eater\u001b[0m \u001b[0;34m=\u001b[0m \u001b[0mzip\u001b[0m\u001b[0;34m(\u001b[0m\u001b[0mheaders\u001b[0m\u001b[0;34m,\u001b[0m\u001b[0mice_cream_eater\u001b[0m\u001b[0;34m)\u001b[0m\u001b[0;34m\u001b[0m\u001b[0;34m\u001b[0m\u001b[0m\n\u001b[1;32m     14\u001b[0m         \u001b[0mice_cream_eaters\u001b[0m\u001b[0;34m[\u001b[0m\u001b[0mid\u001b[0m\u001b[0;34m]\u001b[0m \u001b[0;34m=\u001b[0m \u001b[0mdict\u001b[0m\u001b[0;34m(\u001b[0m\u001b[0mzipped_eater\u001b[0m\u001b[0;34m)\u001b[0m\u001b[0;34m\u001b[0m\u001b[0;34m\u001b[0m\u001b[0m\n",
      "\u001b[0;31mTypeError\u001b[0m: list indices must be integers or slices, not str"
     ]
    }
   ],
   "source": [
    "file = open(\"ice_cream.csv\")\n",
    "ice_cream_eaters = {}\n",
    "line_num = 0\n",
    "for line in file:\n",
    "    line = line.rstrip()\n",
    "    if line_num == 0:\n",
    "        headers = line.split(\",\")\n",
    "        headers.pop(0)\n",
    "    else:\n",
    "        ice_cream_eater = line.split(\",\")\n",
    "        id = int(ice_cream_eater.pop(0))\n",
    "        ice_cream_eater[key] = {int(ice_cream_eater[key]) for key in ice_cream_eater}\n",
    "        zipped_eater = zip(headers,ice_cream_eater)\n",
    "        ice_cream_eaters[id] = dict(zipped_eater)\n",
    "        # for key, value in zipped_eater:\n",
    "        #     eater_dict\n",
    "        # ice_cream_eaters[id] = tuple(ice_cream_eater)\n",
    "    line_num += 1"
   ]
  },
  {
   "cell_type": "code",
   "execution_count": 75,
   "id": "44395820",
   "metadata": {},
   "outputs": [
    {
     "name": "stdout",
     "output_type": "stream",
     "text": [
      "{70: {'female': '0', 'ice_cream': '2', 'video': '47', 'puzzle': '57'}, 121: {'female': '1', 'ice_cream': '1', 'video': '63', 'puzzle': '61'}, 86: {'female': '0', 'ice_cream': '3', 'video': '58', 'puzzle': '31'}, 141: {'female': '0', 'ice_cream': '3', 'video': '53', 'puzzle': '56'}, 172: {'female': '0', 'ice_cream': '1', 'video': '53', 'puzzle': '61'}, 113: {'female': '0', 'ice_cream': '1', 'video': '63', 'puzzle': '61'}, 50: {'female': '0', 'ice_cream': '1', 'video': '53', 'puzzle': '61'}, 11: {'female': '0', 'ice_cream': '1', 'video': '39', 'puzzle': '36'}, 84: {'female': '0', 'ice_cream': '1', 'video': '58', 'puzzle': '51'}, 48: {'female': '0', 'ice_cream': '1', 'video': '50', 'puzzle': '51'}, 75: {'female': '0', 'ice_cream': '1', 'video': '53', 'puzzle': '61'}, 60: {'female': '0', 'ice_cream': '1', 'video': '63', 'puzzle': '61'}, 95: {'female': '0', 'ice_cream': '3', 'video': '61', 'puzzle': '71'}, 104: {'female': '0', 'ice_cream': '3', 'video': '55', 'puzzle': '46'}, 38: {'female': '0', 'ice_cream': '2', 'video': '31', 'puzzle': '56'}, 115: {'female': '0', 'ice_cream': '2', 'video': '50', 'puzzle': '56'}, 76: {'female': '0', 'ice_cream': '3', 'video': '50', 'puzzle': '56'}, 195: {'female': '0', 'ice_cream': '1', 'video': '58', 'puzzle': '56'}, 114: {'female': '0', 'ice_cream': '3', 'video': '55', 'puzzle': '61'}, 85: {'female': '0', 'ice_cream': '1', 'video': '53', 'puzzle': '46'}, 167: {'female': '0', 'ice_cream': '1', 'video': '66', 'puzzle': '41'}, 143: {'female': '0', 'ice_cream': '1', 'video': '72', 'puzzle': '66'}, 41: {'female': '0', 'ice_cream': '1', 'video': '55', 'puzzle': '56'}, 20: {'female': '0', 'ice_cream': '3', 'video': '61', 'puzzle': '61'}, 12: {'female': '0', 'ice_cream': '1', 'video': '39', 'puzzle': '46'}, 53: {'female': '0', 'ice_cream': '1', 'video': '39', 'puzzle': '31'}, 154: {'female': '0', 'ice_cream': '3', 'video': '61', 'puzzle': '66'}, 178: {'female': '0', 'ice_cream': '1', 'video': '58', 'puzzle': '46'}, 196: {'female': '0', 'ice_cream': '3', 'video': '39', 'puzzle': '46'}, 29: {'female': '0', 'ice_cream': '2', 'video': '55', 'puzzle': '41'}, 126: {'female': '0', 'ice_cream': '1', 'video': '47', 'puzzle': '51'}, 103: {'female': '0', 'ice_cream': '3', 'video': '64', 'puzzle': '61'}, 192: {'female': '0', 'ice_cream': '3', 'video': '66', 'puzzle': '71'}, 150: {'female': '0', 'ice_cream': '1', 'video': '72', 'puzzle': '31'}, 199: {'female': '0', 'ice_cream': '3', 'video': '61', 'puzzle': '61'}, 144: {'female': '0', 'ice_cream': '3', 'video': '61', 'puzzle': '66'}, 200: {'female': '0', 'ice_cream': '1', 'video': '66', 'puzzle': '66'}, 80: {'female': '0', 'ice_cream': '3', 'video': '66', 'puzzle': '66'}, 16: {'female': '0', 'ice_cream': '2', 'video': '36', 'puzzle': '36'}, 153: {'female': '0', 'ice_cream': '1', 'video': '39', 'puzzle': '51'}, 176: {'female': '0', 'ice_cream': '1', 'video': '42', 'puzzle': '51'}, 177: {'female': '0', 'ice_cream': '1', 'video': '58', 'puzzle': '51'}, 168: {'female': '0', 'ice_cream': '1', 'video': '55', 'puzzle': '51'}, 40: {'female': '0', 'ice_cream': '2', 'video': '50', 'puzzle': '41'}, 62: {'female': '0', 'ice_cream': '3', 'video': '63', 'puzzle': '66'}, 169: {'female': '0', 'ice_cream': '2', 'video': '69', 'puzzle': '46'}, 49: {'female': '0', 'ice_cream': '3', 'video': '49', 'puzzle': '47'}, 136: {'female': '0', 'ice_cream': '1', 'video': '63', 'puzzle': '51'}, 189: {'female': '0', 'ice_cream': '1', 'video': '53', 'puzzle': '46'}, 7: {'female': '0', 'ice_cream': '1', 'video': '47', 'puzzle': '51'}, 27: {'female': '0', 'ice_cream': '1', 'video': '57', 'puzzle': '56'}, 128: {'female': '0', 'ice_cream': '3', 'video': '47', 'puzzle': '41'}, 21: {'female': '0', 'ice_cream': '1', 'video': '50', 'puzzle': '46'}, 183: {'female': '0', 'ice_cream': '1', 'video': '55', 'puzzle': '71'}, 132: {'female': '0', 'ice_cream': '1', 'video': '69', 'puzzle': '66'}, 15: {'female': '0', 'ice_cream': '3', 'video': '26', 'puzzle': '42'}, 67: {'female': '0', 'ice_cream': '2', 'video': '33', 'puzzle': '32'}, 22: {'female': '0', 'ice_cream': '1', 'video': '56', 'puzzle': '46'}, 185: {'female': '0', 'ice_cream': '1', 'video': '58', 'puzzle': '41'}, 9: {'female': '0', 'ice_cream': '1', 'video': '44', 'puzzle': '51'}, 181: {'female': '0', 'ice_cream': '1', 'video': '58', 'puzzle': '61'}, 170: {'female': '0', 'ice_cream': '3', 'video': '69', 'puzzle': '66'}, 134: {'female': '0', 'ice_cream': '2', 'video': '34', 'puzzle': '46'}, 108: {'female': '0', 'ice_cream': '1', 'video': '36', 'puzzle': '36'}, 197: {'female': '0', 'ice_cream': '3', 'video': '36', 'puzzle': '61'}, 140: {'female': '0', 'ice_cream': '1', 'video': '50', 'puzzle': '26'}, 171: {'female': '0', 'ice_cream': '1', 'video': '55', 'puzzle': '66'}, 107: {'female': '0', 'ice_cream': '2', 'video': '42', 'puzzle': '26'}, 81: {'female': '0', 'ice_cream': '2', 'video': '65', 'puzzle': '44'}, 18: {'female': '0', 'ice_cream': '1', 'video': '44', 'puzzle': '36'}, 155: {'female': '0', 'ice_cream': '1', 'video': '39', 'puzzle': '51'}, 97: {'female': '0', 'ice_cream': '3', 'video': '58', 'puzzle': '61'}, 68: {'female': '0', 'ice_cream': '1', 'video': '63', 'puzzle': '66'}, 157: {'female': '0', 'ice_cream': '1', 'video': '74', 'puzzle': '66'}, 56: {'female': '0', 'ice_cream': '1', 'video': '58', 'puzzle': '51'}, 5: {'female': '0', 'ice_cream': '2', 'video': '45', 'puzzle': '31'}, 159: {'female': '0', 'ice_cream': '3', 'video': '49', 'puzzle': '61'}, 123: {'female': '0', 'ice_cream': '3', 'video': '63', 'puzzle': '66'}, 164: {'female': '0', 'ice_cream': '1', 'video': '39', 'puzzle': '46'}, 14: {'female': '0', 'ice_cream': '3', 'video': '42', 'puzzle': '56'}, 127: {'female': '0', 'ice_cream': '3', 'video': '55', 'puzzle': '56'}, 165: {'female': '0', 'ice_cream': '2', 'video': '61', 'puzzle': '36'}, 174: {'female': '0', 'ice_cream': '1', 'video': '66', 'puzzle': '56'}, 3: {'female': '0', 'ice_cream': '2', 'video': '63', 'puzzle': '56'}, 58: {'female': '0', 'ice_cream': '1', 'video': '44', 'puzzle': '41'}, 146: {'female': '0', 'ice_cream': '3', 'video': '63', 'puzzle': '66'}, 102: {'female': '0', 'ice_cream': '3', 'video': '53', 'puzzle': '56'}, 117: {'female': '0', 'ice_cream': '3', 'video': '42', 'puzzle': '56'}, 133: {'female': '0', 'ice_cream': '1', 'video': '34', 'puzzle': '31'}, 94: {'female': '0', 'ice_cream': '3', 'video': '61', 'puzzle': '56'}, 24: {'female': '0', 'ice_cream': '1', 'video': '47', 'puzzle': '46'}, 149: {'female': '0', 'ice_cream': '2', 'video': '66', 'puzzle': '46'}, 82: {'female': '1', 'ice_cream': '3', 'video': '69', 'puzzle': '61'}, 8: {'female': '1', 'ice_cream': '2', 'video': '44', 'puzzle': '48'}, 129: {'female': '1', 'ice_cream': '2', 'video': '47', 'puzzle': '51'}, 173: {'female': '1', 'ice_cream': '2', 'video': '63', 'puzzle': '51'}, 57: {'female': '1', 'ice_cream': '1', 'video': '66', 'puzzle': '56'}, 100: {'female': '1', 'ice_cream': '3', 'video': '69', 'puzzle': '71'}, 1: {'female': '1', 'ice_cream': '2', 'video': '39', 'puzzle': '41'}, 194: {'female': '1', 'ice_cream': '3', 'video': '61', 'puzzle': '61'}, 88: {'female': '1', 'ice_cream': '3', 'video': '69', 'puzzle': '66'}, 99: {'female': '1', 'ice_cream': '3', 'video': '66', 'puzzle': '61'}, 47: {'female': '1', 'ice_cream': '2', 'video': '33', 'puzzle': '41'}, 120: {'female': '1', 'ice_cream': '3', 'video': '50', 'puzzle': '51'}, 166: {'female': '1', 'ice_cream': '1', 'video': '61', 'puzzle': '51'}, 65: {'female': '1', 'ice_cream': '1', 'video': '42', 'puzzle': '56'}, 101: {'female': '1', 'ice_cream': '3', 'video': '50', 'puzzle': '56'}, 89: {'female': '1', 'ice_cream': '2', 'video': '51', 'puzzle': '33'}, 54: {'female': '1', 'ice_cream': '2', 'video': '50', 'puzzle': '56'}, 180: {'female': '1', 'ice_cream': '3', 'video': '58', 'puzzle': '71'}, 162: {'female': '1', 'ice_cream': '1', 'video': '61', 'puzzle': '56'}, 4: {'female': '1', 'ice_cream': '2', 'video': '39', 'puzzle': '51'}, 131: {'female': '1', 'ice_cream': '3', 'video': '46', 'puzzle': '66'}, 125: {'female': '1', 'ice_cream': '2', 'video': '59', 'puzzle': '56'}, 34: {'female': '1', 'ice_cream': '3', 'video': '55', 'puzzle': '66'}, 106: {'female': '1', 'ice_cream': '1', 'video': '42', 'puzzle': '41'}, 130: {'female': '1', 'ice_cream': '3', 'video': '55', 'puzzle': '46'}, 93: {'female': '1', 'ice_cream': '3', 'video': '58', 'puzzle': '66'}, 163: {'female': '1', 'ice_cream': '2', 'video': '58', 'puzzle': '56'}, 37: {'female': '1', 'ice_cream': '2', 'video': '39', 'puzzle': '51'}, 35: {'female': '1', 'ice_cream': '2', 'video': '50', 'puzzle': '51'}, 87: {'female': '1', 'ice_cream': '1', 'video': '50', 'puzzle': '56'}, 73: {'female': '1', 'ice_cream': '1', 'video': '39', 'puzzle': '56'}, 151: {'female': '1', 'ice_cream': '1', 'video': '48', 'puzzle': '46'}, 44: {'female': '1', 'ice_cream': '2', 'video': '34', 'puzzle': '46'}, 152: {'female': '1', 'ice_cream': '3', 'video': '58', 'puzzle': '61'}, 105: {'female': '1', 'ice_cream': '1', 'video': '44', 'puzzle': '56'}, 28: {'female': '1', 'ice_cream': '1', 'video': '50', 'puzzle': '41'}, 91: {'female': '1', 'ice_cream': '3', 'video': '47', 'puzzle': '46'}, 45: {'female': '1', 'ice_cream': '2', 'video': '29', 'puzzle': '26'}, 116: {'female': '1', 'ice_cream': '1', 'video': '50', 'puzzle': '56'}, 33: {'female': '1', 'ice_cream': '2', 'video': '54', 'puzzle': '56'}, 66: {'female': '1', 'ice_cream': '1', 'video': '50', 'puzzle': '51'}, 72: {'female': '1', 'ice_cream': '1', 'video': '47', 'puzzle': '46'}, 77: {'female': '1', 'ice_cream': '2', 'video': '44', 'puzzle': '66'}, 61: {'female': '1', 'ice_cream': '3', 'video': '67', 'puzzle': '66'}, 190: {'female': '1', 'ice_cream': '1', 'video': '58', 'puzzle': '46'}, 42: {'female': '1', 'ice_cream': '1', 'video': '44', 'puzzle': '56'}, 2: {'female': '1', 'ice_cream': '1', 'video': '42', 'puzzle': '41'}, 55: {'female': '1', 'ice_cream': '1', 'video': '44', 'puzzle': '61'}, 19: {'female': '1', 'ice_cream': '2', 'video': '44', 'puzzle': '51'}, 90: {'female': '1', 'ice_cream': '3', 'video': '50', 'puzzle': '52'}, 142: {'female': '1', 'ice_cream': '1', 'video': '39', 'puzzle': '51'}, 17: {'female': '1', 'ice_cream': '1', 'video': '44', 'puzzle': '41'}, 122: {'female': '1', 'ice_cream': '1', 'video': '53', 'puzzle': '66'}, 191: {'female': '1', 'ice_cream': '3', 'video': '48', 'puzzle': '61'}, 83: {'female': '1', 'ice_cream': '1', 'video': '55', 'puzzle': '31'}, 182: {'female': '1', 'ice_cream': '1', 'video': '44', 'puzzle': '51'}, 6: {'female': '1', 'ice_cream': '2', 'video': '40', 'puzzle': '41'}, 46: {'female': '1', 'ice_cream': '2', 'video': '34', 'puzzle': '41'}, 43: {'female': '1', 'ice_cream': '2', 'video': '42', 'puzzle': '46'}, 96: {'female': '1', 'ice_cream': '3', 'video': '58', 'puzzle': '56'}, 138: {'female': '1', 'ice_cream': '1', 'video': '50', 'puzzle': '51'}, 10: {'female': '1', 'ice_cream': '1', 'video': '53', 'puzzle': '61'}, 71: {'female': '1', 'ice_cream': '1', 'video': '58', 'puzzle': '66'}, 139: {'female': '1', 'ice_cream': '1', 'video': '55', 'puzzle': '71'}, 110: {'female': '1', 'ice_cream': '1', 'video': '54', 'puzzle': '61'}, 148: {'female': '1', 'ice_cream': '1', 'video': '47', 'puzzle': '61'}, 109: {'female': '1', 'ice_cream': '1', 'video': '42', 'puzzle': '41'}, 39: {'female': '1', 'ice_cream': '3', 'video': '61', 'puzzle': '66'}, 147: {'female': '1', 'ice_cream': '2', 'video': '53', 'puzzle': '61'}, 74: {'female': '1', 'ice_cream': '1', 'video': '51', 'puzzle': '58'}, 198: {'female': '1', 'ice_cream': '3', 'video': '63', 'puzzle': '31'}, 161: {'female': '1', 'ice_cream': '2', 'video': '61', 'puzzle': '61'}, 112: {'female': '1', 'ice_cream': '1', 'video': '55', 'puzzle': '61'}, 69: {'female': '1', 'ice_cream': '2', 'video': '40', 'puzzle': '31'}, 156: {'female': '1', 'ice_cream': '1', 'video': '61', 'puzzle': '61'}, 111: {'female': '1', 'ice_cream': '2', 'video': '47', 'puzzle': '36'}, 186: {'female': '1', 'ice_cream': '1', 'video': '55', 'puzzle': '41'}, 98: {'female': '1', 'ice_cream': '2', 'video': '53', 'puzzle': '37'}, 119: {'female': '1', 'ice_cream': '2', 'video': '50', 'puzzle': '43'}, 13: {'female': '1', 'ice_cream': '1', 'video': '47', 'puzzle': '61'}, 51: {'female': '1', 'ice_cream': '3', 'video': '31', 'puzzle': '39'}, 26: {'female': '1', 'ice_cream': '3', 'video': '61', 'puzzle': '51'}, 36: {'female': '1', 'ice_cream': '2', 'video': '35', 'puzzle': '51'}, 135: {'female': '1', 'ice_cream': '2', 'video': '54', 'puzzle': '66'}, 59: {'female': '1', 'ice_cream': '1', 'video': '55', 'puzzle': '71'}, 78: {'female': '1', 'ice_cream': '1', 'video': '53', 'puzzle': '41'}, 64: {'female': '1', 'ice_cream': '3', 'video': '58', 'puzzle': '36'}, 63: {'female': '1', 'ice_cream': '2', 'video': '56', 'puzzle': '51'}, 79: {'female': '1', 'ice_cream': '1', 'video': '50', 'puzzle': '51'}, 193: {'female': '1', 'ice_cream': '1', 'video': '39', 'puzzle': '51'}, 92: {'female': '1', 'ice_cream': '3', 'video': '63', 'puzzle': '61'}, 160: {'female': '1', 'ice_cream': '1', 'video': '50', 'puzzle': '61'}, 32: {'female': '1', 'ice_cream': '3', 'video': '66', 'puzzle': '56'}, 23: {'female': '1', 'ice_cream': '2', 'video': '58', 'puzzle': '71'}, 158: {'female': '1', 'ice_cream': '1', 'video': '53', 'puzzle': '51'}, 25: {'female': '1', 'ice_cream': '1', 'video': '42', 'puzzle': '36'}, 188: {'female': '1', 'ice_cream': '3', 'video': '55', 'puzzle': '61'}, 52: {'female': '1', 'ice_cream': '2', 'video': '53', 'puzzle': '66'}, 124: {'female': '1', 'ice_cream': '2', 'video': '42', 'puzzle': '41'}, 175: {'female': '1', 'ice_cream': '3', 'video': '50', 'puzzle': '41'}, 184: {'female': '1', 'ice_cream': '1', 'video': '55', 'puzzle': '56'}, 30: {'female': '1', 'ice_cream': '3', 'video': '34', 'puzzle': '51'}, 179: {'female': '1', 'ice_cream': '1', 'video': '50', 'puzzle': '56'}, 31: {'female': '1', 'ice_cream': '1', 'video': '42', 'puzzle': '56'}, 145: {'female': '1', 'ice_cream': '1', 'video': '36', 'puzzle': '46'}, 187: {'female': '1', 'ice_cream': '1', 'video': '55', 'puzzle': '52'}, 118: {'female': '1', 'ice_cream': '1', 'video': '58', 'puzzle': '61'}, 137: {'female': '1', 'ice_cream': '3', 'video': '53', 'puzzle': '61'}}\n"
     ]
    }
   ],
   "source": [
    "print(ice_cream_eaters)"
   ]
  },
  {
   "cell_type": "code",
   "execution_count": 60,
   "id": "5cdbf070",
   "metadata": {},
   "outputs": [
    {
     "ename": "TypeError",
     "evalue": "string indices must be integers",
     "output_type": "error",
     "traceback": [
      "\u001b[0;31m---------------------------------------------------------------------------\u001b[0m",
      "\u001b[0;31mTypeError\u001b[0m                                 Traceback (most recent call last)",
      "\u001b[0;32m<ipython-input-60-f4f53d3eb951>\u001b[0m in \u001b[0;36m<module>\u001b[0;34m\u001b[0m\n\u001b[0;32m----> 1\u001b[0;31m \u001b[0mboys\u001b[0m \u001b[0;34m=\u001b[0m \u001b[0;34m{\u001b[0m\u001b[0mice_cream_eater\u001b[0m  \u001b[0;32mfor\u001b[0m \u001b[0mice_cream_eater\u001b[0m \u001b[0;32min\u001b[0m \u001b[0mice_cream_eaters\u001b[0m \u001b[0;32mif\u001b[0m \u001b[0mice_cream_eater\u001b[0m\u001b[0;34m[\u001b[0m\u001b[0;34m'female'\u001b[0m\u001b[0;34m]\u001b[0m \u001b[0;34m==\u001b[0m \u001b[0;36m0\u001b[0m\u001b[0;34m}\u001b[0m\u001b[0;34m\u001b[0m\u001b[0;34m\u001b[0m\u001b[0m\n\u001b[0m",
      "\u001b[0;32m<ipython-input-60-f4f53d3eb951>\u001b[0m in \u001b[0;36m<setcomp>\u001b[0;34m(.0)\u001b[0m\n\u001b[0;32m----> 1\u001b[0;31m \u001b[0mboys\u001b[0m \u001b[0;34m=\u001b[0m \u001b[0;34m{\u001b[0m\u001b[0mice_cream_eater\u001b[0m  \u001b[0;32mfor\u001b[0m \u001b[0mice_cream_eater\u001b[0m \u001b[0;32min\u001b[0m \u001b[0mice_cream_eaters\u001b[0m \u001b[0;32mif\u001b[0m \u001b[0mice_cream_eater\u001b[0m\u001b[0;34m[\u001b[0m\u001b[0;34m'female'\u001b[0m\u001b[0;34m]\u001b[0m \u001b[0;34m==\u001b[0m \u001b[0;36m0\u001b[0m\u001b[0;34m}\u001b[0m\u001b[0;34m\u001b[0m\u001b[0;34m\u001b[0m\u001b[0m\n\u001b[0m",
      "\u001b[0;31mTypeError\u001b[0m: string indices must be integers"
     ]
    }
   ],
   "source": [
    "#boys = {ice_cream_eater  for ice_cream_eater in ice_cream_eaters if ice_cream_eater.item['female'] == 0}"
   ]
  },
  {
   "cell_type": "code",
   "execution_count": 68,
   "id": "68037b1c",
   "metadata": {},
   "outputs": [
    {
     "ename": "KeyError",
     "evalue": "70",
     "output_type": "error",
     "traceback": [
      "\u001b[0;31m---------------------------------------------------------------------------\u001b[0m",
      "\u001b[0;31mKeyError\u001b[0m                                  Traceback (most recent call last)",
      "\u001b[0;32m<ipython-input-68-e733ce398c3b>\u001b[0m in \u001b[0;36m<module>\u001b[0;34m\u001b[0m\n\u001b[0;32m----> 1\u001b[0;31m \u001b[0mprint\u001b[0m\u001b[0;34m(\u001b[0m\u001b[0mice_cream_eaters\u001b[0m\u001b[0;34m[\u001b[0m\u001b[0;36m70\u001b[0m\u001b[0;34m]\u001b[0m\u001b[0;34m)\u001b[0m\u001b[0;34m\u001b[0m\u001b[0;34m\u001b[0m\u001b[0m\n\u001b[0m",
      "\u001b[0;31mKeyError\u001b[0m: 70"
     ]
    }
   ],
   "source": [
    "#print(ice_cream_eaters['70'])"
   ]
  },
  {
   "cell_type": "code",
   "execution_count": 70,
   "id": "826803a0",
   "metadata": {},
   "outputs": [
    {
     "name": "stdout",
     "output_type": "stream",
     "text": [
      "female\n",
      "ice_cream\n",
      "video\n",
      "puzzle\n"
     ]
    }
   ],
   "source": [
    "for ice_cream_eater in ice_cream_eaters['70']:\n",
    "    print(ice_cream_eater)"
   ]
  },
  {
   "cell_type": "code",
   "execution_count": null,
   "id": "9bc44e9b",
   "metadata": {},
   "outputs": [],
   "source": []
  }
 ],
 "metadata": {
  "kernelspec": {
   "display_name": "Python 3",
   "language": "python",
   "name": "python3"
  },
  "language_info": {
   "codemirror_mode": {
    "name": "ipython",
    "version": 3
   },
   "file_extension": ".py",
   "mimetype": "text/x-python",
   "name": "python",
   "nbconvert_exporter": "python",
   "pygments_lexer": "ipython3",
   "version": "3.8.8"
  }
 },
 "nbformat": 4,
 "nbformat_minor": 5
}
